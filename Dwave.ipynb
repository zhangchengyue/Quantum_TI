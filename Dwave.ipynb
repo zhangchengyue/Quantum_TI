{
 "cells": [
  {
   "cell_type": "markdown",
   "id": "6b13f615-256b-4125-bc5d-bf82a52dd4ee",
   "metadata": {},
   "source": [
    "# 1. 简单的QUBO模型\n",
    "先试一试[这篇文章里的QUBO模型](https://ieeexplore.ieee.org/document/9367437)\n",
    "\n",
    "我们用一个简单的例子。只有3个节点的完全图，边权重分别为[1, 2, 3]\n",
    "\n",
    "**变量：**<br>\n",
    "$x_i$: For each edge\n",
    "\n",
    "**目标函数：**最小化选取的边的权重之和\n",
    "\n",
    "**约束：**总共选取$V-1$条边"
   ]
  },
  {
   "cell_type": "code",
   "execution_count": 1,
   "id": "2c425947-2558-494d-b35b-5009bf0edcc7",
   "metadata": {},
   "outputs": [
    {
     "data": {
      "text/latex": [
       "$\\displaystyle P x_{1}^{2} + 2 P x_{1} x_{2} + 2 P x_{1} x_{3} - 4 P x_{1} + P x_{2}^{2} + 2 P x_{2} x_{3} - 4 P x_{2} + P x_{3}^{2} - 4 P x_{3} + 4 P + w_{1} x_{1} + w_{2} x_{2} + w_{3} x_{3}$"
      ],
      "text/plain": [
       "P*x1**2 + 2*P*x1*x2 + 2*P*x1*x3 - 4*P*x1 + P*x2**2 + 2*P*x2*x3 - 4*P*x2 + P*x3**2 - 4*P*x3 + 4*P + w1*x1 + w2*x2 + w3*x3"
      ]
     },
     "execution_count": 1,
     "metadata": {},
     "output_type": "execute_result"
    }
   ],
   "source": [
    "from sympy import symbols, expand, collect\n",
    "\n",
    "# 定义三个符号变量\n",
    "x1, x2, x3 = symbols('x1 x2 x3')\n",
    "\n",
    "# 定义权重\n",
    "w1, w2, w3 = symbols('w1 w2 w3')\n",
    "\n",
    "# 定义惩罚系数\n",
    "P = symbols('P')\n",
    "\n",
    "# 目标函数的线性和二次项\n",
    "objective = w1*x1 + w2*x2 + w3*x3\n",
    "\n",
    "# 约束条件：x1 + x2 + x3 = 2\n",
    "# 我们通过添加一个平方项将它转换成二次形式\n",
    "# 并将其作为惩罚项添加到目标函数中\n",
    "constraint = P*(x1 + x2 + x3 - 2)**2\n",
    "\n",
    "# 合并目标函数和约束项\n",
    "expanded_objective = expand(objective + constraint)\n",
    "\n",
    "# 展示展开后的表达式\n",
    "expanded_objective\n"
   ]
  },
  {
   "cell_type": "code",
   "execution_count": 2,
   "id": "eec5746b-77bc-4cd2-807d-8a9aafb87a18",
   "metadata": {},
   "outputs": [
    {
     "data": {
      "text/latex": [
       "$\\displaystyle 2 P x_{1} x_{2} + 2 P x_{1} x_{3} - 3 P x_{1} + 2 P x_{2} x_{3} - 3 P x_{2} - 3 P x_{3} + 4 P + w_{1} x_{1} + w_{2} x_{2} + w_{3} x_{3}$"
      ],
      "text/plain": [
       "2*P*x1*x2 + 2*P*x1*x3 - 3*P*x1 + 2*P*x2*x3 - 3*P*x2 - 3*P*x3 + 4*P + w1*x1 + w2*x2 + w3*x3"
      ]
     },
     "execution_count": 2,
     "metadata": {},
     "output_type": "execute_result"
    }
   ],
   "source": [
    "# 因为在QUBO问题中 x_i^2 = x_i（因为x_i是二进制变量），所以我们替换掉所有的x_i^2项\n",
    "simplified_objective = expanded_objective.subs({x1**2: x1, x2**2: x2, x3**2: x3})\n",
    "\n",
    "simplified_objective"
   ]
  },
  {
   "cell_type": "code",
   "execution_count": 3,
   "id": "96d064d3-afd8-489f-b860-85083cadb9a4",
   "metadata": {},
   "outputs": [
    {
     "data": {
      "text/latex": [
       "$\\displaystyle 2 P x1x2 + 2 P x1x3 + 2 P x2x3 + 4 P + x_{1} \\left(- 3 P + w_{1}\\right) + x_{2} \\left(- 3 P + w_{2}\\right) + x_{3} \\left(- 3 P + w_{3}\\right)$"
      ],
      "text/plain": [
       "2*P*x1x2 + 2*P*x1x3 + 2*P*x2x3 + 4*P + x1*(-3*P + w1) + x2*(-3*P + w2) + x3*(-3*P + w3)"
      ]
     },
     "execution_count": 3,
     "metadata": {},
     "output_type": "execute_result"
    }
   ],
   "source": [
    "\n",
    "# 定义新的符号变量表示乘积项\n",
    "x1x2, x1x3, x2x3 = symbols('x1x2 x1x3 x2x3')\n",
    "\n",
    "# 替换原表达式中的乘积项为新的符号变量\n",
    "replaced_objective = simplified_objective.subs({x1*x2: x1x2, x1*x3: x1x3, x2*x3: x2x3})\n",
    "\n",
    "# 合并同类项，包括新定义的乘积项符号变量\n",
    "final_objective_with_products = collect(replaced_objective, [x1, x2, x3, x1x2, x1x3, x2x3])\n",
    "\n",
    "final_objective_with_products"
   ]
  },
  {
   "cell_type": "code",
   "execution_count": 12,
   "id": "e7447a0c-f993-42a6-9fc1-04f357d65950",
   "metadata": {},
   "outputs": [
    {
     "data": {
      "text/plain": [
       "{(0, 0): -80,\n",
       " (0, 1): 60,\n",
       " (0, 2): 60,\n",
       " (1, 0): 60,\n",
       " (1, 1): -88,\n",
       " (1, 2): 60,\n",
       " (2, 0): 60,\n",
       " (2, 1): 60,\n",
       " (2, 2): -87}"
      ]
     },
     "execution_count": 12,
     "metadata": {},
     "output_type": "execute_result"
    }
   ],
   "source": [
    "\n",
    "w = [10, 2, 3]\n",
    "# 根据上面整理得到的公式填写QUBO矩阵\n",
    "P = max(w)*len(w)\n",
    "Q = {(i, j): 0 for i in range(3) for j in range(3)}\n",
    "for i in range(3):\n",
    "    Q[(i, i)] += -3*P + w[i]\n",
    "\n",
    "Q[(0, 1)] += 2*P\n",
    "Q[(1, 0)] += 2*P\n",
    "\n",
    "Q[(0, 2)] += 2*P\n",
    "Q[(2, 0)] += 2*P\n",
    "\n",
    "Q[(1, 2)] += 2*P\n",
    "Q[(2, 1)] += 2*P\n",
    "\n",
    "Q"
   ]
  },
  {
   "cell_type": "code",
   "execution_count": 13,
   "id": "85953ddb-4cd3-404d-a889-a253255badbb",
   "metadata": {},
   "outputs": [
    {
     "name": "stdout",
     "output_type": "stream",
     "text": [
      "   0  1  2 energy num_oc. chain_.\n",
      "0  0  1  0  -88.0     470     0.0\n",
      "1  0  0  1  -87.0     410     0.0\n",
      "2  1  0  0  -80.0     120     0.0\n",
      "['BINARY', 3 rows, 1000 samples, 3 variables]\n"
     ]
    }
   ],
   "source": [
    "# 求解\n",
    "from dwave.system import DWaveSampler, EmbeddingComposite\n",
    "dwave_sampler = EmbeddingComposite(DWaveSampler(solver={'qpu': True}))\n",
    "sampleset = dwave_sampler.sample_qubo(Q, num_reads = 1000)\n",
    "print(sampleset)"
   ]
  },
  {
   "cell_type": "markdown",
   "id": "305cb216-5adc-4630-9379-75da3ac8670e",
   "metadata": {},
   "source": [
    "## 1.1 把上述QUBO求解过程整合到该格单独运行即可\n",
    "由于量子退火器的随机性，我测试了很多次都只有3个invalid solutions（i.e. 3个点的图里只选择了1条边，但是我们需要的是2条边的解），所以写了一个while loop来自动运行，直到出现第四个解。由于该例子的完全图是3条边，前三种解大概率会挨个把每条边选一次，所以第四个解一定包含了至少2条边。"
   ]
  },
  {
   "cell_type": "code",
   "execution_count": 25,
   "id": "e60973ba-3786-4f0c-9047-136e5a9c078a",
   "metadata": {},
   "outputs": [
    {
     "name": "stdout",
     "output_type": "stream",
     "text": [
      "   0  1  2 energy num_oc. chain_.\n",
      "0  0  1  0  -88.0     618     0.0\n",
      "1  0  0  1  -87.0     224     0.0\n",
      "2  1  0  0  -80.0     156     0.0\n",
      "3  1  1  0  -48.0       1     0.0\n",
      "4  1  0  1  -47.0       1     0.0\n",
      "['BINARY', 5 rows, 1000 samples, 3 variables]\n"
     ]
    }
   ],
   "source": [
    "from dwave.system import DWaveSampler, EmbeddingComposite\n",
    "dwave_sampler = EmbeddingComposite(DWaveSampler(solver={'qpu': True}))\n",
    "w = [10, 2, 3] # 边权重\n",
    "sampleset = []\n",
    "k = 0\n",
    "while (len(sampleset) <= 3) and (k < 100):\n",
    "    # 根据上面整理得到的公式填写QUBO矩阵\n",
    "    P = max(w)*len(w)\n",
    "    Q = {(i, j): 0 for i in range(3) for j in range(3)}\n",
    "    for i in range(3):\n",
    "        Q[(i, i)] += -3*P + w[i]\n",
    "    \n",
    "    Q[(0, 1)] += 2*P\n",
    "    Q[(1, 0)] += 2*P\n",
    "    \n",
    "    Q[(0, 2)] += 2*P\n",
    "    Q[(2, 0)] += 2*P\n",
    "    \n",
    "    Q[(1, 2)] += 2*P\n",
    "    Q[(2, 1)] += 2*P\n",
    "    sampleset = dwave_sampler.sample_qubo(Q, num_reads = 1000)\n",
    "    k += 1\n",
    "print(sampleset)"
   ]
  },
  {
   "cell_type": "markdown",
   "id": "4c88a4ad-7d13-4f3c-ae20-63da428d0560",
   "metadata": {},
   "source": [
    "## 1.2 自动展开与整理公式\n",
    "这个函数可以作为建立QUBO矩阵的参考"
   ]
  },
  {
   "cell_type": "code",
   "execution_count": 7,
   "id": "31b8a13f-5619-4e8c-8b0e-367f05f75cdd",
   "metadata": {},
   "outputs": [
    {
     "data": {
      "text/latex": [
       "$\\displaystyle 2 P x1x2 + 2 P x1x3 + 4 P x1x4 + 4 P x2x3 + 4 P + x_{1} \\left(- 3 P + w_{1}\\right) + x_{2} \\left(- 3 P + w_{2}\\right) + x_{3} \\left(- 3 P + w_{3}\\right) + x_{4} \\left(- 3 P + w_{4}\\right)$"
      ],
      "text/plain": [
       "2*P*x1x2 + 2*P*x1x3 + 4*P*x1x4 + 4*P*x2x3 + 4*P + x1*(-3*P + w1) + x2*(-3*P + w2) + x3*(-3*P + w3) + x4*(-3*P + w4)"
      ]
     },
     "execution_count": 7,
     "metadata": {},
     "output_type": "execute_result"
    }
   ],
   "source": [
    "def create_final_objective_with_products(num_variables, penalty, constraint_value):\n",
    "    # 创建符号变量和权重\n",
    "    x = symbols(f'x1:{num_variables+1}')\n",
    "    w = symbols(f'w1:{num_variables+1}')\n",
    "    \n",
    "    # 构建目标函数\n",
    "    objective = sum(w[i] * x[i] for i in range(num_variables))\n",
    "    \n",
    "    # 构建约束条件\n",
    "    constraint = penalty * (sum(x) - constraint_value)**2\n",
    "    \n",
    "    # 合并目标函数和约束项\n",
    "    expanded_objective = expand(objective + constraint)\n",
    "\n",
    "    # 替换每个变量的平方项\n",
    "    replacements = {x[i]**2: x[i] for i in range(num_variables)}\n",
    "    simplified_objective = expanded_objective.subs(replacements)\n",
    "\n",
    "    # 为所有变量对生成唯一的乘积符号\n",
    "    product_symbols = symbols(' '.join(f'x{i+1}x{j+1}' for i in range(num_variables) for j in range(i+1, num_variables)))\n",
    "    product_replacements = {x[i] * x[j]: product_symbols[i * (num_variables - 1) - (i * (i + 1)) // 2 + j - i - 1]\n",
    "                            for i in range(num_variables) for j in range(i+1, num_variables)}\n",
    "    replaced_objective = simplified_objective.subs(product_replacements)\n",
    "\n",
    "    # 合并同类项，包括新定义的乘积项符号变量\n",
    "    final_objective = collect(replaced_objective, [x[i] for i in range(num_variables)] + list(product_replacements.values()))\n",
    "\n",
    "    return final_objective\n",
    "\n",
    "# 示例：对于4条边的情况\n",
    "num_variables = 4\n",
    "penalty = symbols('P')\n",
    "constraint_value = 2\n",
    "\n",
    "final_objective_example = create_final_objective_with_products(num_variables, penalty, constraint_value)\n",
    "final_objective_example\n",
    "\n"
   ]
  },
  {
   "cell_type": "markdown",
   "id": "edbb9474-df09-450d-a0e5-da731f39173c",
   "metadata": {},
   "source": [
    "## 1.3 简单QUBO模型的general形式"
   ]
  },
  {
   "cell_type": "markdown",
   "id": "1ad60a8e-8ef8-4cec-b213-5a559fb44506",
   "metadata": {},
   "source": [
    "初始图"
   ]
  },
  {
   "cell_type": "code",
   "execution_count": 69,
   "id": "14e838b0-23dd-417d-bf3f-1556d6d09493",
   "metadata": {},
   "outputs": [],
   "source": [
    "vertices = [\"A\", \"B\", \"C\"]\n",
    "edges = [(\"A\", \"B\"), (\"A\", \"C\"), (\"B\", \"C\")]\n",
    "weights = {(\"A\", \"B\"): 10, (\"A\", \"C\"): 2, (\"B\", \"C\"): 3}\n",
    "V = len(vertices)\n",
    "E = len(edges)"
   ]
  },
  {
   "cell_type": "markdown",
   "id": "7cbf1406-9bf2-4f8b-8ef2-7b1986fbc8a4",
   "metadata": {},
   "source": [
    "给每条边加变量"
   ]
  },
  {
   "cell_type": "code",
   "execution_count": 70,
   "id": "5c214204-a958-4982-a05a-a6df38982c1e",
   "metadata": {},
   "outputs": [
    {
     "data": {
      "text/plain": [
       "{('A', 'B'): 0, ('A', 'C'): 1, ('B', 'C'): 2}"
      ]
     },
     "execution_count": 70,
     "metadata": {},
     "output_type": "execute_result"
    }
   ],
   "source": [
    "variable_index = {edge: i for i, edge in enumerate(edges)}\n",
    "variable_index"
   ]
  },
  {
   "cell_type": "markdown",
   "id": "b325ecd1-ba08-43e2-858b-f481263510c3",
   "metadata": {},
   "source": [
    "初始化QUBO矩阵与建模"
   ]
  },
  {
   "cell_type": "code",
   "execution_count": 71,
   "id": "f80e719e-b733-425a-8441-ea11df48dd92",
   "metadata": {},
   "outputs": [
    {
     "data": {
      "text/plain": [
       "{(0, 0): -80,\n",
       " (0, 1): 60,\n",
       " (0, 2): 60,\n",
       " (1, 0): 60,\n",
       " (1, 1): -88,\n",
       " (1, 2): 60,\n",
       " (2, 0): 60,\n",
       " (2, 1): 60,\n",
       " (2, 2): -87}"
      ]
     },
     "execution_count": 71,
     "metadata": {},
     "output_type": "execute_result"
    }
   ],
   "source": [
    "lambda_A = max(weights.values()) * E\n",
    "# Initialize QUBO dictionary with all possible pairs of variable indices\n",
    "Q = {(variable_index[key1], variable_index[key2]): 0 for key1 in variable_index for key2 in variable_index}\n",
    "\n",
    "for i in range(E):\n",
    "    edge = edges[i]\n",
    "    xi = variable_index[edge]\n",
    "    # 目标函数\n",
    "    Q[(xi, xi)] += weights[edge]\n",
    "    Q[(xi, xi)] += (3 - 2*V)*lambda_A\n",
    "    for j in range(i+1, E):\n",
    "        xj = variable_index[edges[j]]\n",
    "        # 约束\n",
    "        Q[(xi, xj)] += 2*lambda_A\n",
    "        Q[(xj, xi)] += 2*lambda_A # 对称\n",
    "\n",
    "Q"
   ]
  },
  {
   "cell_type": "markdown",
   "id": "1d0fc4c7-dcba-477e-9c54-8eba74f46d70",
   "metadata": {},
   "source": [
    "求解\n",
    "\n",
    "**不要开VPN**"
   ]
  },
  {
   "cell_type": "markdown",
   "id": "adcbb783-71b4-4863-b737-74557843ead8",
   "metadata": {},
   "source": [
    "### Quantum Sampler:"
   ]
  },
  {
   "cell_type": "code",
   "execution_count": 72,
   "id": "addcccc6-dc0b-4988-80c8-2b2f53fed9df",
   "metadata": {},
   "outputs": [
    {
     "ename": "SolverFailureError",
     "evalue": "Problem not accepted because user has insufficient remaining solver access time in project DEV",
     "output_type": "error",
     "traceback": [
      "\u001b[1;31m---------------------------------------------------------------------------\u001b[0m",
      "\u001b[1;31mSolverFailureError\u001b[0m                        Traceback (most recent call last)",
      "Cell \u001b[1;32mIn[72], line 4\u001b[0m\n\u001b[0;32m      2\u001b[0m dwave_sampler \u001b[38;5;241m=\u001b[39m EmbeddingComposite(DWaveSampler(solver\u001b[38;5;241m=\u001b[39m{\u001b[38;5;124m'\u001b[39m\u001b[38;5;124mqpu\u001b[39m\u001b[38;5;124m'\u001b[39m: \u001b[38;5;28;01mTrue\u001b[39;00m}))\n\u001b[0;32m      3\u001b[0m sampleset \u001b[38;5;241m=\u001b[39m dwave_sampler\u001b[38;5;241m.\u001b[39msample_qubo(Q, num_reads \u001b[38;5;241m=\u001b[39m \u001b[38;5;241m1000\u001b[39m)\n\u001b[1;32m----> 4\u001b[0m \u001b[38;5;28;43mprint\u001b[39;49m\u001b[43m(\u001b[49m\u001b[43msampleset\u001b[49m\u001b[43m)\u001b[49m\n",
      "File \u001b[1;32mD:\\anaconda\\envs\\bgi\\lib\\site-packages\\dimod\\sampleset.py:1033\u001b[0m, in \u001b[0;36mSampleSet.__str__\u001b[1;34m(self)\u001b[0m\n\u001b[0;32m   1032\u001b[0m \u001b[38;5;28;01mdef\u001b[39;00m \u001b[38;5;21m__str__\u001b[39m(\u001b[38;5;28mself\u001b[39m):\n\u001b[1;32m-> 1033\u001b[0m     \u001b[38;5;28;01mreturn\u001b[39;00m \u001b[43mFormatter\u001b[49m\u001b[43m(\u001b[49m\u001b[43m)\u001b[49m\u001b[38;5;241;43m.\u001b[39;49m\u001b[43mformat\u001b[49m\u001b[43m(\u001b[49m\u001b[38;5;28;43mself\u001b[39;49m\u001b[43m)\u001b[49m\n",
      "File \u001b[1;32mD:\\anaconda\\envs\\bgi\\lib\\site-packages\\dimod\\serialization\\format.py:245\u001b[0m, in \u001b[0;36mFormatter.format\u001b[1;34m(self, obj, **kwargs)\u001b[0m\n\u001b[0;32m    243\u001b[0m \u001b[38;5;250m\u001b[39m\u001b[38;5;124;03m\"\"\"Return the formatted representation of the object as a string.\"\"\"\u001b[39;00m\n\u001b[0;32m    244\u001b[0m sio \u001b[38;5;241m=\u001b[39m StringIO()\n\u001b[1;32m--> 245\u001b[0m \u001b[38;5;28;43mself\u001b[39;49m\u001b[38;5;241;43m.\u001b[39;49m\u001b[43mfprint\u001b[49m\u001b[43m(\u001b[49m\u001b[43mobj\u001b[49m\u001b[43m,\u001b[49m\u001b[43m \u001b[49m\u001b[43mstream\u001b[49m\u001b[38;5;241;43m=\u001b[39;49m\u001b[43msio\u001b[49m\u001b[43m,\u001b[49m\u001b[43m \u001b[49m\u001b[38;5;241;43m*\u001b[39;49m\u001b[38;5;241;43m*\u001b[39;49m\u001b[43mkwargs\u001b[49m\u001b[43m)\u001b[49m\n\u001b[0;32m    246\u001b[0m \u001b[38;5;28;01mreturn\u001b[39;00m sio\u001b[38;5;241m.\u001b[39mgetvalue()\n",
      "File \u001b[1;32mD:\\anaconda\\envs\\bgi\\lib\\site-packages\\dimod\\serialization\\format.py:257\u001b[0m, in \u001b[0;36mFormatter.fprint\u001b[1;34m(self, obj, stream, **kwargs)\u001b[0m\n\u001b[0;32m    254\u001b[0m options\u001b[38;5;241m.\u001b[39mupdate(kwargs)\n\u001b[0;32m    256\u001b[0m \u001b[38;5;28;01mif\u001b[39;00m \u001b[38;5;28misinstance\u001b[39m(obj, dimod\u001b[38;5;241m.\u001b[39mSampleSet):\n\u001b[1;32m--> 257\u001b[0m     \u001b[38;5;28;43mself\u001b[39;49m\u001b[38;5;241;43m.\u001b[39;49m\u001b[43m_print_sampleset\u001b[49m\u001b[43m(\u001b[49m\u001b[43mobj\u001b[49m\u001b[43m,\u001b[49m\u001b[43m \u001b[49m\u001b[43mstream\u001b[49m\u001b[43m,\u001b[49m\u001b[43m \u001b[49m\u001b[38;5;241;43m*\u001b[39;49m\u001b[38;5;241;43m*\u001b[39;49m\u001b[43moptions\u001b[49m\u001b[43m)\u001b[49m\n\u001b[0;32m    258\u001b[0m     \u001b[38;5;28;01mreturn\u001b[39;00m\n\u001b[0;32m    260\u001b[0m \u001b[38;5;28;01mraise\u001b[39;00m \u001b[38;5;167;01mTypeError\u001b[39;00m(\u001b[38;5;124m\"\u001b[39m\u001b[38;5;124mcannot format type \u001b[39m\u001b[38;5;132;01m{}\u001b[39;00m\u001b[38;5;124m\"\u001b[39m\u001b[38;5;241m.\u001b[39mformat(\u001b[38;5;28mtype\u001b[39m(obj)))\n",
      "File \u001b[1;32mD:\\anaconda\\envs\\bgi\\lib\\site-packages\\dimod\\serialization\\format.py:270\u001b[0m, in \u001b[0;36mFormatter._print_sampleset\u001b[1;34m(self, sampleset, stream, width, depth, sorted_by, **other)\u001b[0m\n\u001b[0;32m    262\u001b[0m \u001b[38;5;28;01mdef\u001b[39;00m \u001b[38;5;21m_print_sampleset\u001b[39m(\u001b[38;5;28mself\u001b[39m, sampleset, stream,\n\u001b[0;32m    263\u001b[0m                      width, depth, sorted_by,\n\u001b[0;32m    264\u001b[0m                      \u001b[38;5;241m*\u001b[39m\u001b[38;5;241m*\u001b[39mother):\n\u001b[1;32m   (...)\u001b[0m\n\u001b[0;32m    268\u001b[0m     \u001b[38;5;66;03m# need at least two characters per variable, so this is already\u001b[39;00m\n\u001b[0;32m    269\u001b[0m     \u001b[38;5;66;03m# way more than we need\u001b[39;00m\n\u001b[1;32m--> 270\u001b[0m     num_variables \u001b[38;5;241m=\u001b[39m \u001b[38;5;28mlen\u001b[39m(\u001b[43msampleset\u001b[49m\u001b[38;5;241;43m.\u001b[39;49m\u001b[43mvariables\u001b[49m)  \u001b[38;5;66;03m# save this for later\u001b[39;00m\n\u001b[0;32m    271\u001b[0m     \u001b[38;5;28;01mif\u001b[39;00m width \u001b[38;5;241m>\u001b[39m \u001b[38;5;241m2\u001b[39m \u001b[38;5;129;01mand\u001b[39;00m num_variables \u001b[38;5;241m>\u001b[39m width:\n\u001b[0;32m    272\u001b[0m         variables \u001b[38;5;241m=\u001b[39m sampleset\u001b[38;5;241m.\u001b[39mvariables[:width\u001b[38;5;241m-\u001b[39m\u001b[38;5;241m1\u001b[39m]\n",
      "File \u001b[1;32mD:\\anaconda\\envs\\bgi\\lib\\site-packages\\dimod\\sampleset.py:1130\u001b[0m, in \u001b[0;36mSampleSet.variables\u001b[1;34m(self)\u001b[0m\n\u001b[0;32m   1124\u001b[0m \u001b[38;5;129m@property\u001b[39m\n\u001b[0;32m   1125\u001b[0m \u001b[38;5;28;01mdef\u001b[39;00m \u001b[38;5;21mvariables\u001b[39m(\u001b[38;5;28mself\u001b[39m):\n\u001b[0;32m   1126\u001b[0m \u001b[38;5;250m    \u001b[39m\u001b[38;5;124;03m\"\"\":class:`~.variables.Variables` of variable labels.\u001b[39;00m\n\u001b[0;32m   1127\u001b[0m \n\u001b[0;32m   1128\u001b[0m \u001b[38;5;124;03m    Corresponds to columns of the sample field of :attr:`.SampleSet.record`.\u001b[39;00m\n\u001b[0;32m   1129\u001b[0m \u001b[38;5;124;03m    \"\"\"\u001b[39;00m\n\u001b[1;32m-> 1130\u001b[0m     \u001b[38;5;28;43mself\u001b[39;49m\u001b[38;5;241;43m.\u001b[39;49m\u001b[43mresolve\u001b[49m\u001b[43m(\u001b[49m\u001b[43m)\u001b[49m\n\u001b[0;32m   1131\u001b[0m     \u001b[38;5;28;01mreturn\u001b[39;00m \u001b[38;5;28mself\u001b[39m\u001b[38;5;241m.\u001b[39m_variables\n",
      "File \u001b[1;32mD:\\anaconda\\envs\\bgi\\lib\\site-packages\\dimod\\sampleset.py:1485\u001b[0m, in \u001b[0;36mSampleSet.resolve\u001b[1;34m(self)\u001b[0m\n\u001b[0;32m   1483\u001b[0m \u001b[38;5;66;03m# if it doesn't have the attribute then it is already resolved\u001b[39;00m\n\u001b[0;32m   1484\u001b[0m \u001b[38;5;28;01mif\u001b[39;00m \u001b[38;5;28mhasattr\u001b[39m(\u001b[38;5;28mself\u001b[39m, \u001b[38;5;124m'\u001b[39m\u001b[38;5;124m_future\u001b[39m\u001b[38;5;124m'\u001b[39m):\n\u001b[1;32m-> 1485\u001b[0m     samples \u001b[38;5;241m=\u001b[39m \u001b[38;5;28;43mself\u001b[39;49m\u001b[38;5;241;43m.\u001b[39;49m\u001b[43m_result_hook\u001b[49m\u001b[43m(\u001b[49m\u001b[38;5;28;43mself\u001b[39;49m\u001b[38;5;241;43m.\u001b[39;49m\u001b[43m_future\u001b[49m\u001b[43m)\u001b[49m\n\u001b[0;32m   1486\u001b[0m     \u001b[38;5;28mself\u001b[39m\u001b[38;5;241m.\u001b[39m\u001b[38;5;21m__init__\u001b[39m(samples\u001b[38;5;241m.\u001b[39mrecord, samples\u001b[38;5;241m.\u001b[39mvariables, samples\u001b[38;5;241m.\u001b[39minfo, samples\u001b[38;5;241m.\u001b[39mvartype)\n\u001b[0;32m   1487\u001b[0m     \u001b[38;5;28;01mdel\u001b[39;00m \u001b[38;5;28mself\u001b[39m\u001b[38;5;241m.\u001b[39m_future\n",
      "File \u001b[1;32mD:\\anaconda\\envs\\bgi\\lib\\site-packages\\dwave\\system\\composites\\embedding.py:284\u001b[0m, in \u001b[0;36mEmbeddingComposite.sample.<locals>.async_unembed\u001b[1;34m(response)\u001b[0m\n\u001b[0;32m    279\u001b[0m \u001b[38;5;28;01mdef\u001b[39;00m \u001b[38;5;21masync_unembed\u001b[39m(response):\n\u001b[0;32m    280\u001b[0m     \u001b[38;5;66;03m# unembed the sampleset aysnchronously.\u001b[39;00m\n\u001b[0;32m    282\u001b[0m     warninghandler\u001b[38;5;241m.\u001b[39mchain_break(response, embedding)\n\u001b[1;32m--> 284\u001b[0m     sampleset \u001b[38;5;241m=\u001b[39m \u001b[43munembed_sampleset\u001b[49m\u001b[43m(\u001b[49m\u001b[43mresponse\u001b[49m\u001b[43m,\u001b[49m\u001b[43m \u001b[49m\u001b[43membedding\u001b[49m\u001b[43m,\u001b[49m\u001b[43m \u001b[49m\u001b[43msource_bqm\u001b[49m\u001b[38;5;241;43m=\u001b[39;49m\u001b[43mbqm\u001b[49m\u001b[43m,\u001b[49m\n\u001b[0;32m    285\u001b[0m \u001b[43m                                  \u001b[49m\u001b[43mchain_break_method\u001b[49m\u001b[38;5;241;43m=\u001b[39;49m\u001b[43mchain_break_method\u001b[49m\u001b[43m,\u001b[49m\n\u001b[0;32m    286\u001b[0m \u001b[43m                                  \u001b[49m\u001b[43mchain_break_fraction\u001b[49m\u001b[38;5;241;43m=\u001b[39;49m\u001b[43mchain_break_fraction\u001b[49m\u001b[43m,\u001b[49m\n\u001b[0;32m    287\u001b[0m \u001b[43m                                  \u001b[49m\u001b[43mreturn_embedding\u001b[49m\u001b[38;5;241;43m=\u001b[39;49m\u001b[43mreturn_embedding\u001b[49m\u001b[43m)\u001b[49m\n\u001b[0;32m    289\u001b[0m     \u001b[38;5;28;01mif\u001b[39;00m return_embedding:\n\u001b[0;32m    290\u001b[0m         sampleset\u001b[38;5;241m.\u001b[39minfo[\u001b[38;5;124m'\u001b[39m\u001b[38;5;124membedding_context\u001b[39m\u001b[38;5;124m'\u001b[39m]\u001b[38;5;241m.\u001b[39mupdate(\n\u001b[0;32m    291\u001b[0m             embedding_parameters\u001b[38;5;241m=\u001b[39membedding_parameters,\n\u001b[0;32m    292\u001b[0m             chain_strength\u001b[38;5;241m=\u001b[39membedding\u001b[38;5;241m.\u001b[39mchain_strength)\n",
      "File \u001b[1;32mD:\\anaconda\\envs\\bgi\\lib\\site-packages\\dwave\\embedding\\transforms.py:606\u001b[0m, in \u001b[0;36munembed_sampleset\u001b[1;34m(target_sampleset, embedding, source_bqm, chain_break_method, chain_break_fraction, return_embedding)\u001b[0m\n\u001b[0;32m    603\u001b[0m \u001b[38;5;28;01mexcept\u001b[39;00m \u001b[38;5;167;01mKeyError\u001b[39;00m:\n\u001b[0;32m    604\u001b[0m     \u001b[38;5;28;01mraise\u001b[39;00m \u001b[38;5;167;01mValueError\u001b[39;00m(\u001b[38;5;124m\"\u001b[39m\u001b[38;5;124mgiven bqm does not match the embedding\u001b[39m\u001b[38;5;124m\"\u001b[39m)\n\u001b[1;32m--> 606\u001b[0m record \u001b[38;5;241m=\u001b[39m \u001b[43mtarget_sampleset\u001b[49m\u001b[38;5;241;43m.\u001b[39;49m\u001b[43mrecord\u001b[49m\n\u001b[0;32m    608\u001b[0m unembedded, idxs \u001b[38;5;241m=\u001b[39m chain_break_method(target_sampleset, chains)\n\u001b[0;32m    610\u001b[0m reserved \u001b[38;5;241m=\u001b[39m {\u001b[38;5;124m'\u001b[39m\u001b[38;5;124msample\u001b[39m\u001b[38;5;124m'\u001b[39m, \u001b[38;5;124m'\u001b[39m\u001b[38;5;124menergy\u001b[39m\u001b[38;5;124m'\u001b[39m}\n",
      "File \u001b[1;32mD:\\anaconda\\envs\\bgi\\lib\\site-packages\\dimod\\sampleset.py:1121\u001b[0m, in \u001b[0;36mSampleSet.record\u001b[1;34m(self)\u001b[0m\n\u001b[0;32m   1105\u001b[0m \u001b[38;5;129m@property\u001b[39m\n\u001b[0;32m   1106\u001b[0m \u001b[38;5;28;01mdef\u001b[39;00m \u001b[38;5;21mrecord\u001b[39m(\u001b[38;5;28mself\u001b[39m):\n\u001b[0;32m   1107\u001b[0m \u001b[38;5;250m    \u001b[39m\u001b[38;5;124;03m\"\"\":obj:`numpy.recarray` containing the samples, energies, number of occurences, and other sample data.\u001b[39;00m\n\u001b[0;32m   1108\u001b[0m \n\u001b[0;32m   1109\u001b[0m \u001b[38;5;124;03m    Examples:\u001b[39;00m\n\u001b[1;32m   (...)\u001b[0m\n\u001b[0;32m   1119\u001b[0m \n\u001b[0;32m   1120\u001b[0m \u001b[38;5;124;03m    \"\"\"\u001b[39;00m\n\u001b[1;32m-> 1121\u001b[0m     \u001b[38;5;28;43mself\u001b[39;49m\u001b[38;5;241;43m.\u001b[39;49m\u001b[43mresolve\u001b[49m\u001b[43m(\u001b[49m\u001b[43m)\u001b[49m\n\u001b[0;32m   1122\u001b[0m     \u001b[38;5;28;01mreturn\u001b[39;00m \u001b[38;5;28mself\u001b[39m\u001b[38;5;241m.\u001b[39m_record\n",
      "File \u001b[1;32mD:\\anaconda\\envs\\bgi\\lib\\site-packages\\dimod\\sampleset.py:1485\u001b[0m, in \u001b[0;36mSampleSet.resolve\u001b[1;34m(self)\u001b[0m\n\u001b[0;32m   1483\u001b[0m \u001b[38;5;66;03m# if it doesn't have the attribute then it is already resolved\u001b[39;00m\n\u001b[0;32m   1484\u001b[0m \u001b[38;5;28;01mif\u001b[39;00m \u001b[38;5;28mhasattr\u001b[39m(\u001b[38;5;28mself\u001b[39m, \u001b[38;5;124m'\u001b[39m\u001b[38;5;124m_future\u001b[39m\u001b[38;5;124m'\u001b[39m):\n\u001b[1;32m-> 1485\u001b[0m     samples \u001b[38;5;241m=\u001b[39m \u001b[38;5;28;43mself\u001b[39;49m\u001b[38;5;241;43m.\u001b[39;49m\u001b[43m_result_hook\u001b[49m\u001b[43m(\u001b[49m\u001b[38;5;28;43mself\u001b[39;49m\u001b[38;5;241;43m.\u001b[39;49m\u001b[43m_future\u001b[49m\u001b[43m)\u001b[49m\n\u001b[0;32m   1486\u001b[0m     \u001b[38;5;28mself\u001b[39m\u001b[38;5;241m.\u001b[39m\u001b[38;5;21m__init__\u001b[39m(samples\u001b[38;5;241m.\u001b[39mrecord, samples\u001b[38;5;241m.\u001b[39mvariables, samples\u001b[38;5;241m.\u001b[39minfo, samples\u001b[38;5;241m.\u001b[39mvartype)\n\u001b[0;32m   1487\u001b[0m     \u001b[38;5;28;01mdel\u001b[39;00m \u001b[38;5;28mself\u001b[39m\u001b[38;5;241m.\u001b[39m_future\n",
      "File \u001b[1;32mD:\\anaconda\\envs\\bgi\\lib\\site-packages\\dwave\\system\\samplers\\dwave_sampler.py:452\u001b[0m, in \u001b[0;36mDWaveSampler.sample.<locals>._hook\u001b[1;34m(computation)\u001b[0m\n\u001b[0;32m    450\u001b[0m \u001b[38;5;28;01mexcept\u001b[39;00m (SolverError, InvalidAPIResponseError) \u001b[38;5;28;01mas\u001b[39;00m exc:\n\u001b[0;32m    451\u001b[0m     \u001b[38;5;28;01mif\u001b[39;00m \u001b[38;5;129;01mnot\u001b[39;00m \u001b[38;5;28mself\u001b[39m\u001b[38;5;241m.\u001b[39mfailover:\n\u001b[1;32m--> 452\u001b[0m         \u001b[38;5;28;01mraise\u001b[39;00m exc\n\u001b[0;32m    453\u001b[0m     \u001b[38;5;28;01mif\u001b[39;00m \u001b[38;5;28misinstance\u001b[39m(exc, SolverAuthenticationError):\n\u001b[0;32m    454\u001b[0m         \u001b[38;5;28;01mraise\u001b[39;00m exc\n",
      "File \u001b[1;32mD:\\anaconda\\envs\\bgi\\lib\\site-packages\\dwave\\system\\samplers\\dwave_sampler.py:439\u001b[0m, in \u001b[0;36mDWaveSampler.sample.<locals>._hook\u001b[1;34m(computation)\u001b[0m\n\u001b[0;32m    436\u001b[0m     \u001b[38;5;28;01mreturn\u001b[39;00m sampleset\n\u001b[0;32m    438\u001b[0m \u001b[38;5;28;01mtry\u001b[39;00m:\n\u001b[1;32m--> 439\u001b[0m     \u001b[38;5;28;01mreturn\u001b[39;00m \u001b[43mresolve\u001b[49m\u001b[43m(\u001b[49m\u001b[43mcomputation\u001b[49m\u001b[43m)\u001b[49m\n\u001b[0;32m    441\u001b[0m \u001b[38;5;28;01mexcept\u001b[39;00m (ProblemUploadError, RequestTimeout, PollingTimeout) \u001b[38;5;28;01mas\u001b[39;00m exc:\n\u001b[0;32m    442\u001b[0m     \u001b[38;5;28;01mif\u001b[39;00m \u001b[38;5;129;01mnot\u001b[39;00m \u001b[38;5;28mself\u001b[39m\u001b[38;5;241m.\u001b[39mfailover:\n",
      "File \u001b[1;32mD:\\anaconda\\envs\\bgi\\lib\\site-packages\\dwave\\system\\samplers\\dwave_sampler.py:429\u001b[0m, in \u001b[0;36mDWaveSampler.sample.<locals>._hook.<locals>.resolve\u001b[1;34m(computation)\u001b[0m\n\u001b[0;32m    427\u001b[0m \u001b[38;5;28;01mdef\u001b[39;00m \u001b[38;5;21mresolve\u001b[39m(computation):\n\u001b[0;32m    428\u001b[0m     sampleset \u001b[38;5;241m=\u001b[39m computation\u001b[38;5;241m.\u001b[39msampleset\n\u001b[1;32m--> 429\u001b[0m     \u001b[43msampleset\u001b[49m\u001b[38;5;241;43m.\u001b[39;49m\u001b[43mresolve\u001b[49m\u001b[43m(\u001b[49m\u001b[43m)\u001b[49m\n\u001b[0;32m    431\u001b[0m     \u001b[38;5;28;01mif\u001b[39;00m warninghandler \u001b[38;5;129;01mis\u001b[39;00m \u001b[38;5;129;01mnot\u001b[39;00m \u001b[38;5;28;01mNone\u001b[39;00m:\n\u001b[0;32m    432\u001b[0m         warninghandler\u001b[38;5;241m.\u001b[39mtoo_few_samples(sampleset)\n",
      "File \u001b[1;32mD:\\anaconda\\envs\\bgi\\lib\\site-packages\\dimod\\sampleset.py:1485\u001b[0m, in \u001b[0;36mSampleSet.resolve\u001b[1;34m(self)\u001b[0m\n\u001b[0;32m   1483\u001b[0m \u001b[38;5;66;03m# if it doesn't have the attribute then it is already resolved\u001b[39;00m\n\u001b[0;32m   1484\u001b[0m \u001b[38;5;28;01mif\u001b[39;00m \u001b[38;5;28mhasattr\u001b[39m(\u001b[38;5;28mself\u001b[39m, \u001b[38;5;124m'\u001b[39m\u001b[38;5;124m_future\u001b[39m\u001b[38;5;124m'\u001b[39m):\n\u001b[1;32m-> 1485\u001b[0m     samples \u001b[38;5;241m=\u001b[39m \u001b[38;5;28;43mself\u001b[39;49m\u001b[38;5;241;43m.\u001b[39;49m\u001b[43m_result_hook\u001b[49m\u001b[43m(\u001b[49m\u001b[38;5;28;43mself\u001b[39;49m\u001b[38;5;241;43m.\u001b[39;49m\u001b[43m_future\u001b[49m\u001b[43m)\u001b[49m\n\u001b[0;32m   1486\u001b[0m     \u001b[38;5;28mself\u001b[39m\u001b[38;5;241m.\u001b[39m\u001b[38;5;21m__init__\u001b[39m(samples\u001b[38;5;241m.\u001b[39mrecord, samples\u001b[38;5;241m.\u001b[39mvariables, samples\u001b[38;5;241m.\u001b[39minfo, samples\u001b[38;5;241m.\u001b[39mvartype)\n\u001b[0;32m   1487\u001b[0m     \u001b[38;5;28;01mdel\u001b[39;00m \u001b[38;5;28mself\u001b[39m\u001b[38;5;241m.\u001b[39m_future\n",
      "File \u001b[1;32mD:\\anaconda\\envs\\bgi\\lib\\site-packages\\dwave\\cloud\\computation.py:823\u001b[0m, in \u001b[0;36mFuture.sampleset.<locals>.<lambda>\u001b[1;34m(f)\u001b[0m\n\u001b[0;32m    818\u001b[0m \u001b[38;5;28;01mexcept\u001b[39;00m \u001b[38;5;167;01mImportError\u001b[39;00m:\n\u001b[0;32m    819\u001b[0m     \u001b[38;5;28;01mraise\u001b[39;00m \u001b[38;5;167;01mRuntimeError\u001b[39;00m(\u001b[38;5;124m\"\u001b[39m\u001b[38;5;124mCan\u001b[39m\u001b[38;5;124m'\u001b[39m\u001b[38;5;124mt construct SampleSet without dimod. \u001b[39m\u001b[38;5;124m\"\u001b[39m\n\u001b[0;32m    820\u001b[0m                        \u001b[38;5;124m\"\u001b[39m\u001b[38;5;124mRe-install the library with \u001b[39m\u001b[38;5;124m'\u001b[39m\u001b[38;5;124mbqm\u001b[39m\u001b[38;5;124m'\u001b[39m\u001b[38;5;124m support.\u001b[39m\u001b[38;5;124m\"\u001b[39m)\n\u001b[0;32m    822\u001b[0m \u001b[38;5;28mself\u001b[39m\u001b[38;5;241m.\u001b[39m_sampleset \u001b[38;5;241m=\u001b[39m sampleset \u001b[38;5;241m=\u001b[39m dimod\u001b[38;5;241m.\u001b[39mSampleSet\u001b[38;5;241m.\u001b[39mfrom_future(\n\u001b[1;32m--> 823\u001b[0m     \u001b[38;5;28mself\u001b[39m, \u001b[38;5;28;01mlambda\u001b[39;00m f: \u001b[43mf\u001b[49m\u001b[38;5;241;43m.\u001b[39;49m\u001b[43mwait_sampleset\u001b[49m\u001b[43m(\u001b[49m\u001b[43m)\u001b[49m)\n\u001b[0;32m    825\u001b[0m \u001b[38;5;66;03m# propagate id to sampleset as well\u001b[39;00m\n\u001b[0;32m    826\u001b[0m \u001b[38;5;66;03m# note: this requires dimod>=0.8.21 (before that version SampleSet\u001b[39;00m\n\u001b[0;32m    827\u001b[0m \u001b[38;5;66;03m# had slots set which prevented dynamic addition of attributes).\u001b[39;00m\n\u001b[0;32m    828\u001b[0m sampleset\u001b[38;5;241m.\u001b[39mwait_id \u001b[38;5;241m=\u001b[39m \u001b[38;5;28mself\u001b[39m\u001b[38;5;241m.\u001b[39mwait_id\n",
      "File \u001b[1;32mD:\\anaconda\\envs\\bgi\\lib\\site-packages\\dwave\\cloud\\computation.py:755\u001b[0m, in \u001b[0;36mFuture.wait_sampleset\u001b[1;34m(self)\u001b[0m\n\u001b[0;32m    752\u001b[0m \u001b[38;5;250m\u001b[39m\u001b[38;5;124;03m\"\"\"Blocking sampleset getter.\"\"\"\u001b[39;00m\n\u001b[0;32m    754\u001b[0m \u001b[38;5;66;03m# blocking result get\u001b[39;00m\n\u001b[1;32m--> 755\u001b[0m result \u001b[38;5;241m=\u001b[39m \u001b[38;5;28;43mself\u001b[39;49m\u001b[38;5;241;43m.\u001b[39;49m\u001b[43m_load_result\u001b[49m\u001b[43m(\u001b[49m\u001b[43m)\u001b[49m\n\u001b[0;32m    757\u001b[0m \u001b[38;5;66;03m# common problem info: id/label\u001b[39;00m\n\u001b[0;32m    758\u001b[0m problem_info \u001b[38;5;241m=\u001b[39m \u001b[38;5;28mdict\u001b[39m(problem_id\u001b[38;5;241m=\u001b[39m\u001b[38;5;28mself\u001b[39m\u001b[38;5;241m.\u001b[39mid)\n",
      "File \u001b[1;32mD:\\anaconda\\envs\\bgi\\lib\\site-packages\\dwave\\cloud\\computation.py:893\u001b[0m, in \u001b[0;36mFuture._load_result\u001b[1;34m(self)\u001b[0m\n\u001b[0;32m    891\u001b[0m \u001b[38;5;66;03m# Check for other error conditions\u001b[39;00m\n\u001b[0;32m    892\u001b[0m \u001b[38;5;28;01mif\u001b[39;00m \u001b[38;5;28mself\u001b[39m\u001b[38;5;241m.\u001b[39m_exception \u001b[38;5;129;01mis\u001b[39;00m \u001b[38;5;129;01mnot\u001b[39;00m \u001b[38;5;28;01mNone\u001b[39;00m:\n\u001b[1;32m--> 893\u001b[0m     \u001b[38;5;28;01mraise\u001b[39;00m \u001b[38;5;28mself\u001b[39m\u001b[38;5;241m.\u001b[39m_exception\n\u001b[0;32m    895\u001b[0m \u001b[38;5;66;03m# If someone else took care of this while we were waiting\u001b[39;00m\n\u001b[0;32m    896\u001b[0m \u001b[38;5;28;01mif\u001b[39;00m \u001b[38;5;28mself\u001b[39m\u001b[38;5;241m.\u001b[39m_result \u001b[38;5;129;01mis\u001b[39;00m \u001b[38;5;129;01mnot\u001b[39;00m \u001b[38;5;28;01mNone\u001b[39;00m:\n",
      "File \u001b[1;32mD:\\anaconda\\envs\\bgi\\lib\\site-packages\\dwave\\cloud\\client\\base.py:1371\u001b[0m, in \u001b[0;36mClient._handle_problem_status\u001b[1;34m(self, message, future)\u001b[0m\n\u001b[0;32m   1369\u001b[0m             \u001b[38;5;28;01mraise\u001b[39;00m SolverOfflineError(errmsg)\n\u001b[0;32m   1370\u001b[0m         \u001b[38;5;28;01melse\u001b[39;00m:\n\u001b[1;32m-> 1371\u001b[0m             \u001b[38;5;28;01mraise\u001b[39;00m SolverFailureError(errmsg)\n\u001b[0;32m   1373\u001b[0m \u001b[38;5;28;01mexcept\u001b[39;00m \u001b[38;5;167;01mException\u001b[39;00m \u001b[38;5;28;01mas\u001b[39;00m exc:\n\u001b[0;32m   1374\u001b[0m     \u001b[38;5;66;03m# If there were any unhandled errors we need to release the\u001b[39;00m\n\u001b[0;32m   1375\u001b[0m     \u001b[38;5;66;03m# lock in the future, otherwise deadlock occurs.\u001b[39;00m\n\u001b[0;32m   1376\u001b[0m     future\u001b[38;5;241m.\u001b[39m_set_exception(exc)\n",
      "\u001b[1;31mSolverFailureError\u001b[0m: Problem not accepted because user has insufficient remaining solver access time in project DEV"
     ]
    }
   ],
   "source": [
    "from dwave.system import DWaveSampler, EmbeddingComposite\n",
    "dwave_sampler = EmbeddingComposite(DWaveSampler(solver={'qpu': True}))\n",
    "sampleset = dwave_sampler.sample_qubo(Q, num_reads = 1000)\n",
    "print(sampleset)"
   ]
  },
  {
   "cell_type": "code",
   "execution_count": 73,
   "id": "b9594218-f6cd-480a-9539-d4e5a212d5c1",
   "metadata": {},
   "outputs": [
    {
     "name": "stdout",
     "output_type": "stream",
     "text": [
      "    0  1  2 energy num_oc.\n",
      "0   0  1  0  -88.0       1\n",
      "1   0  1  0  -88.0       1\n",
      "7   0  1  0  -88.0       1\n",
      "8   0  1  0  -88.0       1\n",
      "10  0  1  0  -88.0       1\n",
      "13  0  1  0  -88.0       1\n",
      "17  0  1  0  -88.0       1\n",
      "18  0  1  0  -88.0       1\n",
      "19  0  1  0  -88.0       1\n",
      "20  0  1  0  -88.0       1\n",
      "22  0  1  0  -88.0       1\n",
      "23  0  1  0  -88.0       1\n",
      "26  0  1  0  -88.0       1\n",
      "29  0  1  0  -88.0       1\n",
      "31  0  1  0  -88.0       1\n",
      "37  0  1  0  -88.0       1\n",
      "41  0  1  0  -88.0       1\n",
      "42  0  1  0  -88.0       1\n",
      "43  0  1  0  -88.0       1\n",
      "45  0  1  0  -88.0       1\n",
      "47  0  1  0  -88.0       1\n",
      "49  0  1  0  -88.0       1\n",
      "55  0  1  0  -88.0       1\n",
      "58  0  1  0  -88.0       1\n",
      "60  0  1  0  -88.0       1\n",
      "63  0  1  0  -88.0       1\n",
      "64  0  1  0  -88.0       1\n",
      "66  0  1  0  -88.0       1\n",
      "67  0  1  0  -88.0       1\n",
      "71  0  1  0  -88.0       1\n",
      "74  0  1  0  -88.0       1\n",
      "76  0  1  0  -88.0       1\n",
      "79  0  1  0  -88.0       1\n",
      "81  0  1  0  -88.0       1\n",
      "83  0  1  0  -88.0       1\n",
      "87  0  1  0  -88.0       1\n",
      "92  0  1  0  -88.0       1\n",
      "2   0  0  1  -87.0       1\n",
      "3   0  0  1  -87.0       1\n",
      "4   0  0  1  -87.0       1\n",
      "5   0  0  1  -87.0       1\n",
      "6   0  0  1  -87.0       1\n",
      "9   0  0  1  -87.0       1\n",
      "11  0  0  1  -87.0       1\n",
      "12  0  0  1  -87.0       1\n",
      "15  0  0  1  -87.0       1\n",
      "16  0  0  1  -87.0       1\n",
      "21  0  0  1  -87.0       1\n",
      "24  0  0  1  -87.0       1\n",
      "25  0  0  1  -87.0       1\n",
      "30  0  0  1  -87.0       1\n",
      "32  0  0  1  -87.0       1\n",
      "34  0  0  1  -87.0       1\n",
      "35  0  0  1  -87.0       1\n",
      "36  0  0  1  -87.0       1\n",
      "38  0  0  1  -87.0       1\n",
      "39  0  0  1  -87.0       1\n",
      "44  0  0  1  -87.0       1\n",
      "46  0  0  1  -87.0       1\n",
      "51  0  0  1  -87.0       1\n",
      "53  0  0  1  -87.0       1\n",
      "54  0  0  1  -87.0       1\n",
      "56  0  0  1  -87.0       1\n",
      "57  0  0  1  -87.0       1\n",
      "61  0  0  1  -87.0       1\n",
      "62  0  0  1  -87.0       1\n",
      "65  0  0  1  -87.0       1\n",
      "69  0  0  1  -87.0       1\n",
      "70  0  0  1  -87.0       1\n",
      "75  0  0  1  -87.0       1\n",
      "77  0  0  1  -87.0       1\n",
      "78  0  0  1  -87.0       1\n",
      "84  0  0  1  -87.0       1\n",
      "85  0  0  1  -87.0       1\n",
      "88  0  0  1  -87.0       1\n",
      "89  0  0  1  -87.0       1\n",
      "90  0  0  1  -87.0       1\n",
      "93  0  0  1  -87.0       1\n",
      "96  0  0  1  -87.0       1\n",
      "97  0  0  1  -87.0       1\n",
      "98  0  0  1  -87.0       1\n",
      "99  0  0  1  -87.0       1\n",
      "14  1  0  0  -80.0       1\n",
      "27  1  0  0  -80.0       1\n",
      "28  1  0  0  -80.0       1\n",
      "33  1  0  0  -80.0       1\n",
      "40  1  0  0  -80.0       1\n",
      "48  1  0  0  -80.0       1\n",
      "50  1  0  0  -80.0       1\n",
      "52  1  0  0  -80.0       1\n",
      "59  1  0  0  -80.0       1\n",
      "68  1  0  0  -80.0       1\n",
      "72  1  0  0  -80.0       1\n",
      "73  1  0  0  -80.0       1\n",
      "80  1  0  0  -80.0       1\n",
      "82  1  0  0  -80.0       1\n",
      "86  1  0  0  -80.0       1\n",
      "91  1  0  0  -80.0       1\n",
      "94  1  0  0  -80.0       1\n",
      "95  1  0  0  -80.0       1\n",
      "['BINARY', 100 rows, 100 samples, 3 variables]\n"
     ]
    }
   ],
   "source": [
    "import dimod\n",
    "# Now you would typically use a QUBO solver to find the minimum of this matrix\n",
    "# For this example, we will use a classical simulated annealing sampler\n",
    "sampler = dimod.SimulatedAnnealingSampler()\n",
    "response = sampler.sample_qubo(Q, num_reads=100)\n",
    "print(response)"
   ]
  },
  {
   "cell_type": "markdown",
   "id": "ab67c270-ca21-4624-b083-0d635fa0530b",
   "metadata": {},
   "source": [
    "## 1.4 使用Klein data聚类后簇之间的连接矩阵"
   ]
  },
  {
   "cell_type": "code",
   "execution_count": 58,
   "id": "82939beb-897c-4103-84f3-7e8a60786d48",
   "metadata": {},
   "outputs": [
    {
     "name": "stdout",
     "output_type": "stream",
     "text": [
      "{('ES', '2-days'): 0, ('ES', '4-days'): 1, ('2-days', '4-days'): 2, ('4-days', '7-days'): 3}\n"
     ]
    }
   ],
   "source": [
    "# 初始化图。现在先手打，后续可以导入scRNA RAW data处理到这一步\n",
    "vertices = [\"ES\", \"2-days\", \"4-days\", \"7-days\"]\n",
    "edges = [(\"ES\", \"2-days\"), (\"ES\", \"4-days\"), (\"2-days\", \"4-days\"), (\"4-days\", \"7-days\")]\n",
    "weights = {(\"ES\", \"2-days\"):1.76650, (\"ES\", \"4-days\"):3.029646, \n",
    "           (\"2-days\", \"4-days\"):1.885074, (\"4-days\", \"7-days\"):1.831101}\n",
    "V = len(vertices)\n",
    "E = len(edges)\n",
    "\n",
    "# 每条边的变量\n",
    "variable_index = {edge: i for i, edge in enumerate(edges)}\n",
    "print(variable_index)\n",
    "\n",
    "# 初始化QUBO矩阵并建模\n",
    "lambda_A = max(weights.values()) * E\n",
    "# Initialize QUBO dictionary with all possible pairs of variable indices\n",
    "Q = {(variable_index[key1], variable_index[key2]): 0 for key1 in variable_index for key2 in variable_index}\n",
    "\n",
    "for i in range(E):\n",
    "    edge = edges[i]\n",
    "    xi = variable_index[edge]\n",
    "    # 目标函数\n",
    "    Q[(xi, xi)] += weights[edge]\n",
    "    Q[(xi, xi)] += (1-2*(V-1))*lambda_A\n",
    "    for j in range(i+1, E):\n",
    "        xj = variable_index[edges[j]]\n",
    "        # 约束\n",
    "        Q[(xi, xj)] += 2*lambda_A\n",
    "        Q[(xj, xi)] += 2*lambda_A # 对称"
   ]
  },
  {
   "cell_type": "code",
   "execution_count": 67,
   "id": "22ac8637-ee21-414c-a813-3324dfee6a82",
   "metadata": {},
   "outputs": [],
   "source": [
    "# 求解\n",
    "# from dwave.system import DWaveSampler, EmbeddingComposite\n",
    "# dwave_sampler = EmbeddingComposite(DWaveSampler(solver={'qpu': True}))\n",
    "# sampleset = dwave_sampler.sample_qubo(Q, num_reads = 1000)\n",
    "# print(sampleset)"
   ]
  },
  {
   "cell_type": "code",
   "execution_count": 68,
   "id": "12bdc5ed-96d9-40a1-b7c8-7a810681d286",
   "metadata": {},
   "outputs": [
    {
     "name": "stdout",
     "output_type": "stream",
     "text": [
      "    0  1  2  3     energy num_oc.\n",
      "6   1  0  0  1 -69.113903       1\n",
      "8   1  0  0  1 -69.113903       1\n",
      "10  1  0  0  1 -69.113903       1\n",
      "17  1  0  0  1 -69.113903       1\n",
      "21  1  0  0  1 -69.113903       1\n",
      "25  1  0  0  1 -69.113903       1\n",
      "30  1  0  0  1 -69.113903       1\n",
      "33  1  0  0  1 -69.113903       1\n",
      "35  1  0  0  1 -69.113903       1\n",
      "53  1  0  0  1 -69.113903       1\n",
      "59  1  0  0  1 -69.113903       1\n",
      "62  1  0  0  1 -69.113903       1\n",
      "65  1  0  0  1 -69.113903       1\n",
      "73  1  0  0  1 -69.113903       1\n",
      "74  1  0  0  1 -69.113903       1\n",
      "77  1  0  0  1 -69.113903       1\n",
      "87  1  0  0  1 -69.113903       1\n",
      "91  1  0  0  1 -69.113903       1\n",
      "94  1  0  0  1 -69.113903       1\n",
      "0   1  0  1  0  -69.05993       1\n",
      "3   1  0  1  0  -69.05993       1\n",
      "7   1  0  1  0  -69.05993       1\n",
      "9   1  0  1  0  -69.05993       1\n",
      "12  1  0  1  0  -69.05993       1\n",
      "15  1  0  1  0  -69.05993       1\n",
      "19  1  0  1  0  -69.05993       1\n",
      "26  1  0  1  0  -69.05993       1\n",
      "27  1  0  1  0  -69.05993       1\n",
      "34  1  0  1  0  -69.05993       1\n",
      "39  1  0  1  0  -69.05993       1\n",
      "43  1  0  1  0  -69.05993       1\n",
      "46  1  0  1  0  -69.05993       1\n",
      "57  1  0  1  0  -69.05993       1\n",
      "60  1  0  1  0  -69.05993       1\n",
      "68  1  0  1  0  -69.05993       1\n",
      "72  1  0  1  0  -69.05993       1\n",
      "81  1  0  1  0  -69.05993       1\n",
      "83  1  0  1  0  -69.05993       1\n",
      "84  1  0  1  0  -69.05993       1\n",
      "85  1  0  1  0  -69.05993       1\n",
      "13  0  0  1  1 -68.995329       1\n",
      "20  0  0  1  1 -68.995329       1\n",
      "28  0  0  1  1 -68.995329       1\n",
      "36  0  0  1  1 -68.995329       1\n",
      "37  0  0  1  1 -68.995329       1\n",
      "42  0  0  1  1 -68.995329       1\n",
      "45  0  0  1  1 -68.995329       1\n",
      "52  0  0  1  1 -68.995329       1\n",
      "56  0  0  1  1 -68.995329       1\n",
      "63  0  0  1  1 -68.995329       1\n",
      "66  0  0  1  1 -68.995329       1\n",
      "69  0  0  1  1 -68.995329       1\n",
      "71  0  0  1  1 -68.995329       1\n",
      "78  0  0  1  1 -68.995329       1\n",
      "82  0  0  1  1 -68.995329       1\n",
      "86  0  0  1  1 -68.995329       1\n",
      "96  0  0  1  1 -68.995329       1\n",
      "2   1  1  0  0 -67.915358       1\n",
      "11  1  1  0  0 -67.915358       1\n",
      "14  1  1  0  0 -67.915358       1\n",
      "18  1  1  0  0 -67.915358       1\n",
      "29  1  1  0  0 -67.915358       1\n",
      "32  1  1  0  0 -67.915358       1\n",
      "41  1  1  0  0 -67.915358       1\n",
      "47  1  1  0  0 -67.915358       1\n",
      "51  1  1  0  0 -67.915358       1\n",
      "58  1  1  0  0 -67.915358       1\n",
      "70  1  1  0  0 -67.915358       1\n",
      "75  1  1  0  0 -67.915358       1\n",
      "80  1  1  0  0 -67.915358       1\n",
      "88  1  1  0  0 -67.915358       1\n",
      "89  1  1  0  0 -67.915358       1\n",
      "90  1  1  0  0 -67.915358       1\n",
      "92  1  1  0  0 -67.915358       1\n",
      "93  1  1  0  0 -67.915358       1\n",
      "95  1  1  0  0 -67.915358       1\n",
      "97  1  1  0  0 -67.915358       1\n",
      "98  1  1  0  0 -67.915358       1\n",
      "99  1  1  0  0 -67.915358       1\n",
      "5   0  1  0  1 -67.850757       1\n",
      "23  0  1  0  1 -67.850757       1\n",
      "24  0  1  0  1 -67.850757       1\n",
      "38  0  1  0  1 -67.850757       1\n",
      "40  0  1  0  1 -67.850757       1\n",
      "44  0  1  0  1 -67.850757       1\n",
      "48  0  1  0  1 -67.850757       1\n",
      "50  0  1  0  1 -67.850757       1\n",
      "54  0  1  0  1 -67.850757       1\n",
      "64  0  1  0  1 -67.850757       1\n",
      "79  0  1  0  1 -67.850757       1\n",
      "1   0  1  1  0 -67.796784       1\n",
      "4   0  1  1  0 -67.796784       1\n",
      "16  0  1  1  0 -67.796784       1\n",
      "22  0  1  1  0 -67.796784       1\n",
      "31  0  1  1  0 -67.796784       1\n",
      "49  0  1  1  0 -67.796784       1\n",
      "55  0  1  1  0 -67.796784       1\n",
      "61  0  1  1  0 -67.796784       1\n",
      "67  0  1  1  0 -67.796784       1\n",
      "76  0  1  1  0 -67.796784       1\n",
      "['BINARY', 100 rows, 100 samples, 4 variables]\n"
     ]
    }
   ],
   "source": [
    "import dimod\n",
    "# Now you would typically use a QUBO solver to find the minimum of this matrix\n",
    "# For this example, we will use a classical simulated annealing sampler\n",
    "sampler = dimod.SimulatedAnnealingSampler()\n",
    "response = sampler.sample_qubo(Q, num_reads=100)\n",
    "print(response)"
   ]
  },
  {
   "cell_type": "markdown",
   "id": "3253ba4f-2697-405a-83c6-f064a8d9683f",
   "metadata": {},
   "source": [
    "### 一些调取结果信息的D wave指令\n",
    "[SampleSet Object's man page](https://docs.ocean.dwavesys.com/en/stable/docs_dimod/reference/sampleset.html)"
   ]
  },
  {
   "cell_type": "code",
   "execution_count": 45,
   "id": "f76e8acc-fdaf-4b21-9556-999f59b3b56c",
   "metadata": {},
   "outputs": [
    {
     "data": {
      "text/plain": [
       "{'timing': {'qpu_sampling_time': 73580.0,\n",
       "  'qpu_anneal_time_per_sample': 20.0,\n",
       "  'qpu_readout_time_per_sample': 32.56,\n",
       "  'qpu_access_time': 80425.61,\n",
       "  'qpu_access_overhead_time': 537.39,\n",
       "  'qpu_programming_time': 6845.61,\n",
       "  'qpu_delay_time_per_sample': 21.02,\n",
       "  'total_post_processing_time': 479.0,\n",
       "  'post_processing_overhead_time': 479.0},\n",
       " 'problem_id': '40edd12b-bdc4-48c5-9c3f-6acf9b9da6bc'}"
      ]
     },
     "execution_count": 45,
     "metadata": {},
     "output_type": "execute_result"
    }
   ],
   "source": [
    "sampleset.info"
   ]
  },
  {
   "cell_type": "code",
   "execution_count": 46,
   "id": "e7546d1a-6201-49c8-9e8c-67b77b3b7e71",
   "metadata": {},
   "outputs": [
    {
     "data": {
      "text/plain": [
       "Variables([0, 1, 2, 3])"
      ]
     },
     "execution_count": 46,
     "metadata": {},
     "output_type": "execute_result"
    }
   ],
   "source": [
    "sampleset.variables"
   ]
  },
  {
   "cell_type": "code",
   "execution_count": 47,
   "id": "6a8c51c5-e3a2-4d1f-a0b8-b60930c3644c",
   "metadata": {},
   "outputs": [
    {
     "data": {
      "text/plain": [
       "rec.array([([1, 0, 0, 1], -69.113903, 242, 0.),\n",
       "           ([1, 0, 1, 0], -69.05993 , 275, 0.),\n",
       "           ([0, 0, 1, 1], -68.995329, 170, 0.),\n",
       "           ([1, 1, 0, 0], -67.915358, 129, 0.),\n",
       "           ([0, 1, 0, 1], -67.850757,  80, 0.),\n",
       "           ([0, 1, 1, 0], -67.796784, 104, 0.)],\n",
       "          dtype=[('sample', 'i1', (4,)), ('energy', '<f8'), ('num_occurrences', '<i4'), ('chain_break_fraction', '<f8')])"
      ]
     },
     "execution_count": 47,
     "metadata": {},
     "output_type": "execute_result"
    }
   ],
   "source": [
    "sampleset.record"
   ]
  },
  {
   "cell_type": "code",
   "execution_count": 48,
   "id": "fa739003-b1b2-45a5-aa9d-3eeb11c5e706",
   "metadata": {},
   "outputs": [
    {
     "data": {
      "text/plain": [
       "<Vartype.BINARY: frozenset({0, 1})>"
      ]
     },
     "execution_count": 48,
     "metadata": {},
     "output_type": "execute_result"
    }
   ],
   "source": [
    "sampleset.vartype"
   ]
  },
  {
   "cell_type": "markdown",
   "id": "c8399f70-249b-46a7-b9f5-4af53705dfb6",
   "metadata": {},
   "source": [
    "# 2. 基于k-MST的复杂的QUBO模型"
   ]
  },
  {
   "cell_type": "markdown",
   "id": "02a53574-10e9-45e5-87e7-63d031aa5522",
   "metadata": {},
   "source": [
    "初始化图"
   ]
  },
  {
   "cell_type": "code",
   "execution_count": 195,
   "id": "e9424a92-72f0-4e89-b2cc-af40c24510c3",
   "metadata": {},
   "outputs": [],
   "source": [
    "import itertools\n",
    "k = 3\n",
    "vertices = [\"A\", \"B\", \"C\"]\n",
    "edges = [(\"A\", \"B\"), (\"A\", \"C\"), (\"B\", \"C\")]\n",
    "weights = {(\"A\", \"B\"): 1, (\"A\", \"C\"): 2, (\"B\", \"C\"): 3}"
   ]
  },
  {
   "cell_type": "raw",
   "id": "2350f004-de9b-4323-a069-c94e8f3cfaa7",
   "metadata": {},
   "source": [
    "import random\n",
    "\n",
    "def generate_connected_graph(k):\n",
    "    # Generate vertices as numbers from 1 to k\n",
    "    vertices = list(range(1, k + 1))\n",
    "\n",
    "    # Start with a spanning tree to ensure the graph is connected\n",
    "    edges = []\n",
    "    for i in range(1, k):\n",
    "        edges.append((i, i+1))\n",
    "\n",
    "    # Add random edges to the graph to add complexity but avoid making it complete\n",
    "    while len(edges) < k * (k - 1) / 2:\n",
    "        # Pick two random vertices\n",
    "        u, v = random.sample(vertices, 2)\n",
    "        # Create an edge if it doesn't already exist and doesn't form a loop\n",
    "        if u != v and (u, v) not in edges and (v, u) not in edges:\n",
    "            edges.append((u, v))\n",
    "\n",
    "    # Assign random weights to edges\n",
    "    weights = {edge: random.randint(1, 10) for edge in edges}\n",
    "\n",
    "    return vertices, edges, weights\n",
    "\n",
    "# Example usage\n",
    "V = 4\n",
    "vertices, edges, weights = generate_connected_graph(V)\n",
    "print(\"Vertices:\", vertices)\n",
    "print(\"Edges:\", edges)\n",
    "print(\"Weights:\", weights)\n",
    "\n",
    "k = 3 # k-MST"
   ]
  },
  {
   "cell_type": "markdown",
   "id": "73a2636b-e893-4a0b-8d6f-db21fa9bfc87",
   "metadata": {},
   "source": [
    "建立$x_{u, i}$的唯一索引"
   ]
  },
  {
   "cell_type": "code",
   "execution_count": 196,
   "id": "42bd619b-78d3-4a24-ab82-45e67387a019",
   "metadata": {},
   "outputs": [
    {
     "data": {
      "text/plain": [
       "{('A', 0): 0,\n",
       " ('A', 1): 1,\n",
       " ('A', 2): 2,\n",
       " ('B', 0): 3,\n",
       " ('B', 1): 4,\n",
       " ('B', 2): 5,\n",
       " ('C', 0): 6,\n",
       " ('C', 1): 7,\n",
       " ('C', 2): 8}"
      ]
     },
     "execution_count": 196,
     "metadata": {},
     "output_type": "execute_result"
    }
   ],
   "source": [
    "# Create a binary variable index for vertex positions in the permutation and for the connections between vertices\n",
    "# x[v, i] - vertex v is in the i-th position in the permutation\n",
    "# y[v, i] - vertex v is connected to the vertex at the i-th position\n",
    "variable_index = {var: idx for idx, var in enumerate(itertools.product(vertices, range(k)))}\n",
    "variable_index # x_{u, i}"
   ]
  },
  {
   "cell_type": "markdown",
   "id": "d0d1828e-967d-4674-aa6b-91f63d8026a0",
   "metadata": {},
   "source": [
    "后续要继续建立$y$变量，所以了解一下总共目前有多少$x$变量了，接下去\n",
    "\n",
    "\n",
    "有$|V|^2$个$x_{u, i}$变量"
   ]
  },
  {
   "cell_type": "code",
   "execution_count": 197,
   "id": "bff28140-56c2-467f-b574-42307d77dc78",
   "metadata": {},
   "outputs": [
    {
     "data": {
      "text/plain": [
       "9"
      ]
     },
     "execution_count": 197,
     "metadata": {},
     "output_type": "execute_result"
    }
   ],
   "source": [
    "y_index_offset = len(variable_index)  # Offset for y variables\n",
    "y_index_offset"
   ]
  },
  {
   "cell_type": "markdown",
   "id": "96fdfe7f-a874-44b5-a969-2de00dd6eabc",
   "metadata": {},
   "source": [
    "建立$y_{v, i}$变量的唯一索引\n",
    "\n",
    "**总共有$2|V|k - |V|$个变量**"
   ]
  },
  {
   "cell_type": "code",
   "execution_count": 198,
   "id": "13253d35-4ea7-4dc1-a71c-9eb46fee0f8c",
   "metadata": {},
   "outputs": [
    {
     "data": {
      "text/plain": [
       "{('A', 0): 0,\n",
       " ('A', 1): 1,\n",
       " ('A', 2): 2,\n",
       " ('B', 0): 3,\n",
       " ('B', 1): 4,\n",
       " ('B', 2): 5,\n",
       " ('C', 0): 6,\n",
       " ('C', 1): 7,\n",
       " ('C', 2): 8,\n",
       " ('A', 0, 'y'): 9,\n",
       " ('A', 1, 'y'): 10,\n",
       " ('B', 0, 'y'): 11,\n",
       " ('B', 1, 'y'): 12,\n",
       " ('C', 0, 'y'): 13,\n",
       " ('C', 1, 'y'): 14}"
      ]
     },
     "execution_count": 198,
     "metadata": {},
     "output_type": "execute_result"
    }
   ],
   "source": [
    "# Add indices for y variables\n",
    "for v in vertices:\n",
    "    for i in range(k-1):\n",
    "        variable_index[(v, i, 'y')] = y_index_offset + (k-1) * vertices.index(v) + i\n",
    "variable_index"
   ]
  },
  {
   "cell_type": "markdown",
   "id": "d6b020c9-dcea-4379-bd0a-2b9285e5195d",
   "metadata": {},
   "source": [
    "生成所有的vertex pairs"
   ]
  },
  {
   "cell_type": "code",
   "execution_count": 199,
   "id": "4f7692d2-60ee-4774-9cc6-33b4beebe6f7",
   "metadata": {},
   "outputs": [],
   "source": [
    "import itertools\n",
    "# Generate all pairs (including pairs with the same elements)\n",
    "all_pairs = list(itertools.product(vertices, repeat=2))\n",
    "# all_pairs"
   ]
  },
  {
   "cell_type": "code",
   "execution_count": 200,
   "id": "d74d5136-ec04-48c4-b71e-ca9eb3a96e81",
   "metadata": {},
   "outputs": [
    {
     "data": {
      "text/plain": [
       "{(0, 0): 0,\n",
       " (0, 1): 0,\n",
       " (0, 2): 0,\n",
       " (0, 3): 0,\n",
       " (0, 4): 0,\n",
       " (0, 5): 0,\n",
       " (0, 6): 0,\n",
       " (0, 7): 0,\n",
       " (0, 8): 0,\n",
       " (0, 9): 0,\n",
       " (0, 10): 0,\n",
       " (0, 11): 0,\n",
       " (0, 12): 0,\n",
       " (0, 13): 0,\n",
       " (0, 14): 0,\n",
       " (1, 0): 0,\n",
       " (1, 1): 0,\n",
       " (1, 2): 0,\n",
       " (1, 3): 0,\n",
       " (1, 4): 0,\n",
       " (1, 5): 0,\n",
       " (1, 6): 0,\n",
       " (1, 7): 0,\n",
       " (1, 8): 0,\n",
       " (1, 9): 0,\n",
       " (1, 10): 0,\n",
       " (1, 11): 0,\n",
       " (1, 12): 0,\n",
       " (1, 13): 0,\n",
       " (1, 14): 0,\n",
       " (2, 0): 0,\n",
       " (2, 1): 0,\n",
       " (2, 2): 0,\n",
       " (2, 3): 0,\n",
       " (2, 4): 0,\n",
       " (2, 5): 0,\n",
       " (2, 6): 0,\n",
       " (2, 7): 0,\n",
       " (2, 8): 0,\n",
       " (2, 9): 0,\n",
       " (2, 10): 0,\n",
       " (2, 11): 0,\n",
       " (2, 12): 0,\n",
       " (2, 13): 0,\n",
       " (2, 14): 0,\n",
       " (3, 0): 0,\n",
       " (3, 1): 0,\n",
       " (3, 2): 0,\n",
       " (3, 3): 0,\n",
       " (3, 4): 0,\n",
       " (3, 5): 0,\n",
       " (3, 6): 0,\n",
       " (3, 7): 0,\n",
       " (3, 8): 0,\n",
       " (3, 9): 0,\n",
       " (3, 10): 0,\n",
       " (3, 11): 0,\n",
       " (3, 12): 0,\n",
       " (3, 13): 0,\n",
       " (3, 14): 0,\n",
       " (4, 0): 0,\n",
       " (4, 1): 0,\n",
       " (4, 2): 0,\n",
       " (4, 3): 0,\n",
       " (4, 4): 0,\n",
       " (4, 5): 0,\n",
       " (4, 6): 0,\n",
       " (4, 7): 0,\n",
       " (4, 8): 0,\n",
       " (4, 9): 0,\n",
       " (4, 10): 0,\n",
       " (4, 11): 0,\n",
       " (4, 12): 0,\n",
       " (4, 13): 0,\n",
       " (4, 14): 0,\n",
       " (5, 0): 0,\n",
       " (5, 1): 0,\n",
       " (5, 2): 0,\n",
       " (5, 3): 0,\n",
       " (5, 4): 0,\n",
       " (5, 5): 0,\n",
       " (5, 6): 0,\n",
       " (5, 7): 0,\n",
       " (5, 8): 0,\n",
       " (5, 9): 0,\n",
       " (5, 10): 0,\n",
       " (5, 11): 0,\n",
       " (5, 12): 0,\n",
       " (5, 13): 0,\n",
       " (5, 14): 0,\n",
       " (6, 0): 0,\n",
       " (6, 1): 0,\n",
       " (6, 2): 0,\n",
       " (6, 3): 0,\n",
       " (6, 4): 0,\n",
       " (6, 5): 0,\n",
       " (6, 6): 0,\n",
       " (6, 7): 0,\n",
       " (6, 8): 0,\n",
       " (6, 9): 0,\n",
       " (6, 10): 0,\n",
       " (6, 11): 0,\n",
       " (6, 12): 0,\n",
       " (6, 13): 0,\n",
       " (6, 14): 0,\n",
       " (7, 0): 0,\n",
       " (7, 1): 0,\n",
       " (7, 2): 0,\n",
       " (7, 3): 0,\n",
       " (7, 4): 0,\n",
       " (7, 5): 0,\n",
       " (7, 6): 0,\n",
       " (7, 7): 0,\n",
       " (7, 8): 0,\n",
       " (7, 9): 0,\n",
       " (7, 10): 0,\n",
       " (7, 11): 0,\n",
       " (7, 12): 0,\n",
       " (7, 13): 0,\n",
       " (7, 14): 0,\n",
       " (8, 0): 0,\n",
       " (8, 1): 0,\n",
       " (8, 2): 0,\n",
       " (8, 3): 0,\n",
       " (8, 4): 0,\n",
       " (8, 5): 0,\n",
       " (8, 6): 0,\n",
       " (8, 7): 0,\n",
       " (8, 8): 0,\n",
       " (8, 9): 0,\n",
       " (8, 10): 0,\n",
       " (8, 11): 0,\n",
       " (8, 12): 0,\n",
       " (8, 13): 0,\n",
       " (8, 14): 0,\n",
       " (9, 0): 0,\n",
       " (9, 1): 0,\n",
       " (9, 2): 0,\n",
       " (9, 3): 0,\n",
       " (9, 4): 0,\n",
       " (9, 5): 0,\n",
       " (9, 6): 0,\n",
       " (9, 7): 0,\n",
       " (9, 8): 0,\n",
       " (9, 9): 0,\n",
       " (9, 10): 0,\n",
       " (9, 11): 0,\n",
       " (9, 12): 0,\n",
       " (9, 13): 0,\n",
       " (9, 14): 0,\n",
       " (10, 0): 0,\n",
       " (10, 1): 0,\n",
       " (10, 2): 0,\n",
       " (10, 3): 0,\n",
       " (10, 4): 0,\n",
       " (10, 5): 0,\n",
       " (10, 6): 0,\n",
       " (10, 7): 0,\n",
       " (10, 8): 0,\n",
       " (10, 9): 0,\n",
       " (10, 10): 0,\n",
       " (10, 11): 0,\n",
       " (10, 12): 0,\n",
       " (10, 13): 0,\n",
       " (10, 14): 0,\n",
       " (11, 0): 0,\n",
       " (11, 1): 0,\n",
       " (11, 2): 0,\n",
       " (11, 3): 0,\n",
       " (11, 4): 0,\n",
       " (11, 5): 0,\n",
       " (11, 6): 0,\n",
       " (11, 7): 0,\n",
       " (11, 8): 0,\n",
       " (11, 9): 0,\n",
       " (11, 10): 0,\n",
       " (11, 11): 0,\n",
       " (11, 12): 0,\n",
       " (11, 13): 0,\n",
       " (11, 14): 0,\n",
       " (12, 0): 0,\n",
       " (12, 1): 0,\n",
       " (12, 2): 0,\n",
       " (12, 3): 0,\n",
       " (12, 4): 0,\n",
       " (12, 5): 0,\n",
       " (12, 6): 0,\n",
       " (12, 7): 0,\n",
       " (12, 8): 0,\n",
       " (12, 9): 0,\n",
       " (12, 10): 0,\n",
       " (12, 11): 0,\n",
       " (12, 12): 0,\n",
       " (12, 13): 0,\n",
       " (12, 14): 0,\n",
       " (13, 0): 0,\n",
       " (13, 1): 0,\n",
       " (13, 2): 0,\n",
       " (13, 3): 0,\n",
       " (13, 4): 0,\n",
       " (13, 5): 0,\n",
       " (13, 6): 0,\n",
       " (13, 7): 0,\n",
       " (13, 8): 0,\n",
       " (13, 9): 0,\n",
       " (13, 10): 0,\n",
       " (13, 11): 0,\n",
       " (13, 12): 0,\n",
       " (13, 13): 0,\n",
       " (13, 14): 0,\n",
       " (14, 0): 0,\n",
       " (14, 1): 0,\n",
       " (14, 2): 0,\n",
       " (14, 3): 0,\n",
       " (14, 4): 0,\n",
       " (14, 5): 0,\n",
       " (14, 6): 0,\n",
       " (14, 7): 0,\n",
       " (14, 8): 0,\n",
       " (14, 9): 0,\n",
       " (14, 10): 0,\n",
       " (14, 11): 0,\n",
       " (14, 12): 0,\n",
       " (14, 13): 0,\n",
       " (14, 14): 0}"
      ]
     },
     "execution_count": 200,
     "metadata": {},
     "output_type": "execute_result"
    }
   ],
   "source": [
    "# Initialize QUBO dictionary with all possible pairs of variable indices\n",
    "Q = {(variable_index[key1], variable_index[key2]): 0 for key1 in variable_index for key2 in variable_index}\n",
    "\n",
    "# Now Q is a dictionary with keys representing all possible pairs of indices and values all set to 0\n",
    "Q"
   ]
  },
  {
   "cell_type": "markdown",
   "id": "4d5cf189-ad02-4d6d-8e0f-b09af34e686c",
   "metadata": {},
   "source": [
    "编写目标函数和约束进QUBO矩阵"
   ]
  },
  {
   "cell_type": "code",
   "execution_count": 201,
   "id": "9c471ebf-d1b8-41e0-b693-58f2f3719fd2",
   "metadata": {},
   "outputs": [
    {
     "data": {
      "text/plain": [
       "{(0, 0): -2,\n",
       " (0, 1): 2,\n",
       " (0, 2): 2,\n",
       " (0, 3): 6,\n",
       " (0, 4): 0,\n",
       " (0, 5): 0,\n",
       " (0, 6): 6,\n",
       " (0, 7): 0,\n",
       " (0, 8): 0,\n",
       " (0, 9): 2,\n",
       " (0, 10): 0,\n",
       " (0, 11): -1,\n",
       " (0, 12): 0,\n",
       " (0, 13): -2,\n",
       " (0, 14): 0,\n",
       " (1, 0): 2,\n",
       " (1, 1): -2,\n",
       " (1, 2): 2,\n",
       " (1, 3): 0,\n",
       " (1, 4): 6,\n",
       " (1, 5): 0,\n",
       " (1, 6): 0,\n",
       " (1, 7): 6,\n",
       " (1, 8): 0,\n",
       " (1, 9): 0,\n",
       " (1, 10): 2,\n",
       " (1, 11): 2,\n",
       " (1, 12): -1,\n",
       " (1, 13): 2,\n",
       " (1, 14): -2,\n",
       " (2, 0): 2,\n",
       " (2, 1): 2,\n",
       " (2, 2): 0,\n",
       " (2, 3): 0,\n",
       " (2, 4): 0,\n",
       " (2, 5): 6,\n",
       " (2, 6): 0,\n",
       " (2, 7): 0,\n",
       " (2, 8): 6,\n",
       " (2, 9): 0,\n",
       " (2, 10): -4,\n",
       " (2, 11): 0,\n",
       " (2, 12): 2,\n",
       " (2, 13): 0,\n",
       " (2, 14): 2,\n",
       " (3, 0): 6,\n",
       " (3, 1): 0,\n",
       " (3, 2): 0,\n",
       " (3, 3): -2,\n",
       " (3, 4): 2,\n",
       " (3, 5): 2,\n",
       " (3, 6): 6,\n",
       " (3, 7): 0,\n",
       " (3, 8): 0,\n",
       " (3, 9): 2,\n",
       " (3, 10): 0,\n",
       " (3, 11): 2,\n",
       " (3, 12): 0,\n",
       " (3, 13): -3,\n",
       " (3, 14): 0,\n",
       " (4, 0): 0,\n",
       " (4, 1): 6,\n",
       " (4, 2): 0,\n",
       " (4, 3): 2,\n",
       " (4, 4): -2,\n",
       " (4, 5): 2,\n",
       " (4, 6): 0,\n",
       " (4, 7): 6,\n",
       " (4, 8): 0,\n",
       " (4, 9): 2,\n",
       " (4, 10): 2,\n",
       " (4, 11): 0,\n",
       " (4, 12): 2,\n",
       " (4, 13): 2,\n",
       " (4, 14): -3,\n",
       " (5, 0): 0,\n",
       " (5, 1): 0,\n",
       " (5, 2): 6,\n",
       " (5, 3): 2,\n",
       " (5, 4): 2,\n",
       " (5, 5): 0,\n",
       " (5, 6): 0,\n",
       " (5, 7): 0,\n",
       " (5, 8): 6,\n",
       " (5, 9): 0,\n",
       " (5, 10): 2,\n",
       " (5, 11): 0,\n",
       " (5, 12): -4,\n",
       " (5, 13): 0,\n",
       " (5, 14): 2,\n",
       " (6, 0): 6,\n",
       " (6, 1): 0,\n",
       " (6, 2): 0,\n",
       " (6, 3): 6,\n",
       " (6, 4): 0,\n",
       " (6, 5): 0,\n",
       " (6, 6): -2,\n",
       " (6, 7): 2,\n",
       " (6, 8): 2,\n",
       " (6, 9): 2,\n",
       " (6, 10): 0,\n",
       " (6, 11): 2,\n",
       " (6, 12): 0,\n",
       " (6, 13): 2,\n",
       " (6, 14): 0,\n",
       " (7, 0): 0,\n",
       " (7, 1): 6,\n",
       " (7, 2): 0,\n",
       " (7, 3): 0,\n",
       " (7, 4): 6,\n",
       " (7, 5): 0,\n",
       " (7, 6): 2,\n",
       " (7, 7): -2,\n",
       " (7, 8): 2,\n",
       " (7, 9): 2,\n",
       " (7, 10): 2,\n",
       " (7, 11): 2,\n",
       " (7, 12): 2,\n",
       " (7, 13): 0,\n",
       " (7, 14): 2,\n",
       " (8, 0): 0,\n",
       " (8, 1): 0,\n",
       " (8, 2): 6,\n",
       " (8, 3): 0,\n",
       " (8, 4): 0,\n",
       " (8, 5): 6,\n",
       " (8, 6): 2,\n",
       " (8, 7): 2,\n",
       " (8, 8): 0,\n",
       " (8, 9): 0,\n",
       " (8, 10): 2,\n",
       " (8, 11): 0,\n",
       " (8, 12): 2,\n",
       " (8, 13): 0,\n",
       " (8, 14): -4,\n",
       " (9, 0): 2,\n",
       " (9, 1): 0,\n",
       " (9, 2): 0,\n",
       " (9, 3): 2,\n",
       " (9, 4): 2,\n",
       " (9, 5): 0,\n",
       " (9, 6): 2,\n",
       " (9, 7): 2,\n",
       " (9, 8): 0,\n",
       " (9, 9): 0,\n",
       " (9, 10): 0,\n",
       " (9, 11): 0,\n",
       " (9, 12): 0,\n",
       " (9, 13): 0,\n",
       " (9, 14): 0,\n",
       " (10, 0): 0,\n",
       " (10, 1): 2,\n",
       " (10, 2): -4,\n",
       " (10, 3): 0,\n",
       " (10, 4): 2,\n",
       " (10, 5): 2,\n",
       " (10, 6): 0,\n",
       " (10, 7): 2,\n",
       " (10, 8): 2,\n",
       " (10, 9): 0,\n",
       " (10, 10): 2,\n",
       " (10, 11): 0,\n",
       " (10, 12): 0,\n",
       " (10, 13): 0,\n",
       " (10, 14): 0,\n",
       " (11, 0): -1,\n",
       " (11, 1): 2,\n",
       " (11, 2): 0,\n",
       " (11, 3): 2,\n",
       " (11, 4): 0,\n",
       " (11, 5): 0,\n",
       " (11, 6): 2,\n",
       " (11, 7): 2,\n",
       " (11, 8): 0,\n",
       " (11, 9): 0,\n",
       " (11, 10): 0,\n",
       " (11, 11): 0,\n",
       " (11, 12): 0,\n",
       " (11, 13): 0,\n",
       " (11, 14): 0,\n",
       " (12, 0): 0,\n",
       " (12, 1): -1,\n",
       " (12, 2): 2,\n",
       " (12, 3): 0,\n",
       " (12, 4): 2,\n",
       " (12, 5): -4,\n",
       " (12, 6): 0,\n",
       " (12, 7): 2,\n",
       " (12, 8): 2,\n",
       " (12, 9): 0,\n",
       " (12, 10): 0,\n",
       " (12, 11): 0,\n",
       " (12, 12): 2,\n",
       " (12, 13): 0,\n",
       " (12, 14): 0,\n",
       " (13, 0): -2,\n",
       " (13, 1): 2,\n",
       " (13, 2): 0,\n",
       " (13, 3): -3,\n",
       " (13, 4): 2,\n",
       " (13, 5): 0,\n",
       " (13, 6): 2,\n",
       " (13, 7): 0,\n",
       " (13, 8): 0,\n",
       " (13, 9): 0,\n",
       " (13, 10): 0,\n",
       " (13, 11): 0,\n",
       " (13, 12): 0,\n",
       " (13, 13): 0,\n",
       " (13, 14): 0,\n",
       " (14, 0): 0,\n",
       " (14, 1): -2,\n",
       " (14, 2): 2,\n",
       " (14, 3): 0,\n",
       " (14, 4): -3,\n",
       " (14, 5): 2,\n",
       " (14, 6): 0,\n",
       " (14, 7): 2,\n",
       " (14, 8): -4,\n",
       " (14, 9): 0,\n",
       " (14, 10): 0,\n",
       " (14, 11): 0,\n",
       " (14, 12): 0,\n",
       " (14, 13): 0,\n",
       " (14, 14): 2}"
      ]
     },
     "execution_count": 201,
     "metadata": {},
     "output_type": "execute_result"
    }
   ],
   "source": [
    "lambda_A = 2 # 惩罚系数λ_A\n",
    "lambda_B = -1 # 奖励系数λ_B\n",
    "# Test if an edge (u, v) is present in the tree\n",
    "# HTree\n",
    "for i in range(k-1):\n",
    "    for u, v in all_pairs:\n",
    "            if u != v and (u, v) in edges: # HTree第一项\n",
    "                # Add a reward if an edge (u, v) is present in the tree\n",
    "                Q[(variable_index[(u, i)], variable_index[(v, i, 'y')])] += lambda_B * weights[(u, v)]\n",
    "                Q[(variable_index[(v, i, 'y')], variable_index[(u, i)])] += lambda_B * weights[(u, v)] # Symmetric\n",
    "            else: # HTree第二项\n",
    "                Q[(variable_index[(u, i)], variable_index[(v, i, 'y')])] += lambda_A\n",
    "                Q[(variable_index[(v, i, 'y')], variable_index[(u, i)])] += lambda_A # Symmetric\n",
    "\n",
    "\n",
    "\n",
    "# H(1)Cst第一项\n",
    "for p in range(k):\n",
    "    v = vertices[p]\n",
    "    for q in range(p+1, k):\n",
    "        u = vertices[q]\n",
    "        for i in range(k):\n",
    "            Q[(variable_index[(u, i)], variable_index[(v, i)])] += lambda_A\n",
    "            Q[(variable_index[(v, i)], variable_index[(u, i)])] += lambda_A # Symmetric\n",
    "\n",
    "# H(1)Cst第二项\n",
    "for i in range(k):\n",
    "    for j in range(i + 1, k):\n",
    "        for v in vertices:\n",
    "            Q[(variable_index[(v, i)], variable_index[(v, j)])] += lambda_A\n",
    "            Q[(variable_index[(v, j)], variable_index[(v, i)])] += lambda_A # Symmetric\n",
    "\n",
    "# H(1)Cst第三项\n",
    "for i in range(k):\n",
    "    for v_idx in range(k):\n",
    "        v = vertices[v_idx]\n",
    "        xv = variable_index[(v, i)]\n",
    "        Q[(xv, xv)] += -lambda_A\n",
    "        for u_idx in range(v_idx+1, k):\n",
    "            u = vertices[u_idx]\n",
    "            xu = variable_index[(u, i)]\n",
    "            Q[(xu, xv)] += 2*lambda_A\n",
    "            Q[(xv, xu)] += 2*lambda_A # Symmetric\n",
    "\n",
    "# H(2)Cst         \n",
    "for v in vertices:\n",
    "    # Add constraint 1: A vertex only connects to previous vertices in the sequence\n",
    "    # H(2)Cst的第一项\n",
    "    for i in range(1, k):  # Start from 1 because the first position cannot have a previous vertex\n",
    "        for u in vertices:\n",
    "            if u != v:\n",
    "                # Add a penalty if a vertex tries to connect to a vertex ahead of it in the sequence\n",
    "                Q[(variable_index[(v, i)], variable_index[(u, i-1, 'y')])] += lambda_A\n",
    "                Q[(variable_index[(u, i-1, 'y')], variable_index[(v, i)])] += lambda_A # Symmetric\n",
    "    \n",
    "    # H(2)Cst的第二项\n",
    "    for i in range(2, k):\n",
    "        xi = variable_index[(v, i)]        \n",
    "        yi = variable_index[(v, i-1, 'y')]\n",
    "        # Square of the difference between x[v, i] and y[v, i-1]\n",
    "        Q[(xi, xi)] += lambda_A\n",
    "        Q[(yi, yi)] += lambda_A\n",
    "        Q[(xi, yi)] += - 2 * lambda_A\n",
    "        Q[(yi, xi)] += - 2 * lambda_A # Symemetric\n",
    "        for j in range(i+1, k):\n",
    "            xj = variable_index[(v, j)]\n",
    "            yj = variable_index[(v, j - 1, 'y')]\n",
    "            Q[(xi, xj)] += 2*lambda_A\n",
    "            Q[(xj, xi)] += 2*lambda_A # Symmetric\n",
    "            \n",
    "            Q[(yi, yj)] += 2*lambda_A\n",
    "            Q[(yj, yi)] += 2*lambda_A # Symmetric\n",
    "\n",
    "Q  # Display the QUBO dictionary with the constraints added"
   ]
  },
  {
   "cell_type": "markdown",
   "id": "260af39e-0f3f-456a-b79a-ace01cef8711",
   "metadata": {},
   "source": [
    "求解"
   ]
  },
  {
   "cell_type": "code",
   "execution_count": 202,
   "id": "8cd2bf3b-9822-419f-8ebe-f1e0b0e514fa",
   "metadata": {},
   "outputs": [
    {
     "name": "stdout",
     "output_type": "stream",
     "text": [
      "   0  1  2  3  4  5  6  7  8  9 10 11 12 13 14 energy num_oc.\n",
      "1  1  0  0  0  1  0  0  0  1  0  0  1  0  0  1  -18.0       1\n",
      "4  1  0  0  0  1  0  0  0  1  0  0  1  0  1  1  -18.0       1\n",
      "5  1  0  0  0  1  0  0  0  1  0  0  1  0  0  1  -18.0       1\n",
      "7  1  0  0  0  1  0  0  0  1  0  0  1  0  1  1  -18.0       1\n",
      "8  1  0  0  0  1  0  0  0  1  0  0  1  0  0  1  -18.0       1\n",
      "9  1  0  0  0  1  0  0  0  1  0  0  1  0  1  1  -18.0       1\n",
      "0  0  1  0  1  0  0  0  0  1  0  0  0  0  1  1  -16.0       1\n",
      "2  1  0  0  0  0  1  0  0  0  0  0  1  1  1  0  -14.0       1\n",
      "3  0  0  1  1  0  0  0  0  0  0  1  0  0  1  0  -14.0       1\n",
      "6  0  0  1  1  0  0  0  0  0  0  1  0  0  1  0  -14.0       1\n",
      "['BINARY', 10 rows, 10 samples, 15 variables]\n"
     ]
    }
   ],
   "source": [
    "import dimod\n",
    "# Now you would typically use a QUBO solver to find the minimum of this matrix\n",
    "# For this example, we will use a classical simulated annealing sampler\n",
    "sampler = dimod.SimulatedAnnealingSampler()\n",
    "response = sampler.sample_qubo(Q, num_reads=10)\n",
    "print(response)\n",
    "\n",
    "# # The response will contain the solution(s) to the QUBO problem\n",
    "# for sample, energy in response.data(['sample', 'energy']):\n",
    "#     print('Sample: ', sample, 'Energy: ', energy)"
   ]
  }
 ],
 "metadata": {
  "kernelspec": {
   "display_name": "Python 3 (ipykernel)",
   "language": "python",
   "name": "python3"
  },
  "language_info": {
   "codemirror_mode": {
    "name": "ipython",
    "version": 3
   },
   "file_extension": ".py",
   "mimetype": "text/x-python",
   "name": "python",
   "nbconvert_exporter": "python",
   "pygments_lexer": "ipython3",
   "version": "3.8.18"
  }
 },
 "nbformat": 4,
 "nbformat_minor": 5
}
